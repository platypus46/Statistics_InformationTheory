{
 "cells": [
  {
   "cell_type": "markdown",
   "metadata": {},
   "source": [
    " 먼저 내용을 작성하기 앞서 간단한 확률실험 장치를 하나 고안했다.  \n",
    "<img src=\"images/확률실험.png\" width=\"600\" height=\"700\">  \n",
    " \n",
    " 원통에서 번호를 뽑고 뽑은 번호에 따라 박스에서 공을 뽑고 색을 관찰한다.\n",
    " 번호를 y,공의 색을 x라는 확률변수로 표현하면 정의역은 아래와 같이 표현된다.\n",
    " $y \\in [1,2,3]$,$x \\in [노란색,하얀색]$ \n",
    " "
   ]
  },
  {
   "cell_type": "markdown",
   "metadata": {},
   "source": [
    "## 곱규칙(product rule)과 합규칙(sum rule)\n",
    "-곱(AND): 사건이 동시에 일어났을 때  \n",
    "-합(OR): 사건이 동시에 일어나지 않을 때 \n",
    "\n",
    "### 설명에 앞서 예로 원통과 상자에서 동시에 꺼내서 원통에서는 1번 상자에서는 하얀공이 나올 확률을 알아보자.  \n",
    "(위와 같이 A와B가 동시에 나올 확률을 결합확률(joint probability)라 한다.)  \n",
    "위에서 언급한 결합 확률은 식으로 아래와 같이 표현할 수 있다.  \n",
    "$P(y=1,x=하얀색)$  \n",
    "<br/>\n",
    "또한 결합확률은 조건부 확률에 의해 계산될 수 있다.  \n",
    "$P(y=1,x=하얀색)=P(x=하얀색|y=1)P(y=1)=\\frac{9}{12}\\frac{1}{8}=\\frac{9}{12}$  \n",
    "곱규칙: $P(y,x)=P(x|y)P(y)$\n",
    "\n"
   ]
  },
  {
   "cell_type": "markdown",
   "metadata": {},
   "source": [
    "### 하얀 공이 뽑힐 확률은 어떻게 될까?  \n",
    "$P(하얀색)=P(하얀색|1)P(1)+P(하얀색|2)P(2)+P(하얀색|3)P(3)=\\frac{43}{96}$←합규칙 이용  \n",
    "이를 수식으로 나타내면 아래와 같이 표현이 된다.  \n",
    "$P(x)=\\displaystyle\\sum_{y}^{}{P(x|y)P(y)}$\n"
   ]
  },
  {
   "cell_type": "markdown",
   "metadata": {},
   "source": [
    "### 조건부 확률(conditional probability)\n",
    "위에서 조건부확률을 미리 다루었지만 따로 설명하자면 사건 B 가 일어났을 때 사건 A 가 일어날 확률을 말한다.  \n",
    "$P(A|B)=P(A∩B)P(B)$\n",
    "### 연쇄법칙(chain rule)\n",
    "n개의 확률이 조건부관계를 가질때 특정식이 표현되는데 이것을 연쇄법칙이라고 한다.  \n",
    "$P(A,B,C,D) = P(A)P(B|A)P(C|A,B)P(D|A,B,C)$\n",
    "\n",
    "### 독립(independent)\n",
    "두 사건이 서로 다른 사건에 영향을 주지 않는다는 것을 말한다.\n",
    "\n",
    "### 조건부독립(conditional independent)\n",
    "<img src=\"images/조건부독립.png\" width=\"600\" height=\"700\"> \n",
    "(부가적으로 공부하기위해 구글링을 해보다가 설명이 잘되어있어서 예시 그대로 갖고왔다.)\n",
    "\n",
    "간략하게 설명하면 다음과 같다. 명령을 내리는 상사와 부하직원A,B가 있다고하자.  \n",
    "A는 가만히있고 B가 앞으로 가는 것을 관찰했다면 A는 B가 상사로부터 명령을 받고 움직인다고 생각할 것이다. 이 상황에서 A는 B가 움직이는 것을 봤고 앞으로 갈지 자발적으로 선택해야하는 상황에 놓여졌다고 했을때 A의 입장에서 아무런 명령이 떨어지지 않았으므로 앞으로 갈 확률은 B를 안보고 앞으로 갈 확률보다 작다고 할 수 있다.  \n",
    "<br/>\n",
    "**이는 독립이 성립되지 않는다고 말할 수 있는 것이다.**  \n",
    "<br/>\n",
    "그런데 상사가 앞으로 가라고 명령을 했다면 B를 인지한 것과 상관없이 앞으로 가야한다.  \n",
    "따라서 A의 입장에서는 B가 앞으로 간 행위가 자신이 앞으로 가는 것에 대해 아무런 영향을 미치지 않게되며 이 부분에 대하여 **조건부독립**이 성립된다고 말할 수 있는 것이다.\n",
    "\n",
    "출처: https://actruce.com/conditional-independence/\n",
    "\n",
    "\n"
   ]
  },
  {
   "cell_type": "markdown",
   "metadata": {},
   "source": [
    "### 기대값(expectation)\n",
    "각 사건이 벌어졌을 때의 이득과 그 사건이 벌어질 확률을 곱한 것을 전체 사건에 대해 합한 값이다.\n",
    "\n",
    "쉽게 주사위로 예를 들어 기대값을 구해보자.  \n",
    "$1(1/6)+2(1/6)+3(1/6)+4(1/6)+5(1/6)+6(1/6)$"
   ]
  }
 ],
 "metadata": {
  "kernelspec": {
   "display_name": "Python 3",
   "language": "python",
   "name": "python3"
  },
  "language_info": {
   "codemirror_mode": {
    "name": "ipython",
    "version": 3
   },
   "file_extension": ".py",
   "mimetype": "text/x-python",
   "name": "python",
   "nbconvert_exporter": "python",
   "pygments_lexer": "ipython3",
   "version": "3.7.6"
  }
 },
 "nbformat": 4,
 "nbformat_minor": 4
}
